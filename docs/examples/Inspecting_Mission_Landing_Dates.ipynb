{
 "cells": [
  {
   "cell_type": "markdown",
   "id": "bad5b577",
   "metadata": {},
   "source": [
    "# Inspecting Mission Landing Dates"
   ]
  },
  {
   "cell_type": "code",
   "execution_count": 2,
   "id": "0a77621b",
   "metadata": {},
   "outputs": [],
   "source": [
    "from mars_clock.mission_sols import *"
   ]
  },
  {
   "cell_type": "code",
   "execution_count": 9,
   "id": "2e18ce20",
   "metadata": {},
   "outputs": [
    {
     "name": "stdout",
     "output_type": "stream",
     "text": [
      "['InSight', 'Perseverance', 'Mars 2020', 'Viking 1', 'Viking 2', 'Mars Pathfinder', 'Pathfinder', 'MPF', 'Curiosity', 'MSL', 'Mars Science Laboratory', 'Phoenix', 'Opportunity', 'MER-1', 'MER-B', 'Spirit']\n",
      "False\n"
     ]
    }
   ],
   "source": [
    "print(available_missions)\n",
    "print(not (\"InSight\" in available_missions))"
   ]
  },
  {
   "cell_type": "code",
   "execution_count": 18,
   "id": "3a72fa20",
   "metadata": {},
   "outputs": [
    {
     "name": "stdout",
     "output_type": "stream",
     "text": [
      "InSight first sol Ls: 295.556 deg\n",
      "Perseverance first sol Ls: 5.64868 deg\n",
      "Mars 2020 first sol Ls: 5.64868 deg\n",
      "Viking 1 first sol Ls: 96.9689 deg\n",
      "Viking 2 first sol Ls: 117.63 deg\n",
      "Mars Pathfinder first sol Ls: 142.727 deg\n",
      "Pathfinder first sol Ls: 142.727 deg\n",
      "MPF first sol Ls: 142.727 deg\n",
      "Curiosity first sol Ls: 150.704 deg\n",
      "MSL first sol Ls: 150.704 deg\n",
      "Mars Science Laboratory first sol Ls: 150.704 deg\n",
      "Phoenix first sol Ls: 76.7331 deg\n",
      "Opportunity first sol Ls: 339.104 deg\n",
      "MER-1 first sol Ls: 339.104 deg\n",
      "MER-B first sol Ls: 339.104 deg\n",
      "Spirit first sol Ls: 327.664 deg\n"
     ]
    }
   ],
   "source": [
    "# These are the best values I can find.\n",
    "right_answers = {}\n",
    "right_answers[\"InSight\"] = 295.\n",
    "\n",
    "\n",
    "# Check Ls-values for each mission first sol\n",
    "for i in range(len(available_missions)):\n",
    "    print(\"%s first sol Ls: %g deg\" %\\\n",
    "          (available_missions[i], \n",
    "           convert_mission_sol_to_Ls(mission_landing_dates[available_missions[i]][\"first_sol\"], \n",
    "                                     available_missions[i])))"
   ]
  }
 ],
 "metadata": {
  "kernelspec": {
   "display_name": "making_mars_clock",
   "language": "python",
   "name": "making_mars_clock"
  },
  "language_info": {
   "codemirror_mode": {
    "name": "ipython",
    "version": 3
   },
   "file_extension": ".py",
   "mimetype": "text/x-python",
   "name": "python",
   "nbconvert_exporter": "python",
   "pygments_lexer": "ipython3",
   "version": "3.9.6"
  }
 },
 "nbformat": 4,
 "nbformat_minor": 5
}
