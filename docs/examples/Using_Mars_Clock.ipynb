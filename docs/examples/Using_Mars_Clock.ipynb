{
 "cells": [
  {
   "cell_type": "markdown",
   "id": "e6146386",
   "metadata": {},
   "source": [
    "# Using Mars Clock"
   ]
  },
  {
   "cell_type": "markdown",
   "id": "3f2e9d5b",
   "metadata": {},
   "source": [
    "This notebook shows how some of the basic functionality of Mars Clock works and how it can be used. We used the information from this website - https://www.giss.nasa.gov/tools/mars24/help/notes.html.\n",
    "\n",
    "We also used notes from this website - https://marsclock.com/.\n",
    "\n",
    "https://www.lpl.arizona.edu/~shane/publications/piqueux_etal_icarus_2015.pdf"
   ]
  },
  {
   "cell_type": "code",
   "execution_count": 1,
   "id": "758d52a2",
   "metadata": {},
   "outputs": [],
   "source": [
    "%matplotlib inline\n",
    "\n",
    "import numpy as np\n",
    "import matplotlib.pyplot as plt\n",
    "import pandas as pd\n",
    "\n",
    "from astropy import units as u\n",
    "from astropy.time import Time"
   ]
  },
  {
   "cell_type": "code",
   "execution_count": 4,
   "id": "f6552c7b",
   "metadata": {},
   "outputs": [],
   "source": [
    "# Define some constants\n",
    "mars_solar_day = 24.*u.hour + 39.*u.minute + 35.244*u.second\n",
    "mars_sol = mars_solar_day # This is what's referred to as a sol\n",
    "mars_tropical_year_in_sols = 668.5921*mars_solar_day\n",
    "mars_sidereal_day = 24.*u.hour + 37.*u.min + 22.663*u.second\n",
    "\n",
    "mars_tropical_year = 668.5921*mars_sol\n",
    "mars_sidereal_year = 668.5991*mars_sol\n",
    "\n",
    "# J2000 epoch in Julian date\n",
    "J2000 = Time('2000-01-01 12:00:00', scale='tt')\n",
    "float_J2000 = J2000.jd # into a float\n",
    "float_MJD_2000 = J2000.mjd # into a float"
   ]
  },
  {
   "cell_type": "code",
   "execution_count": 8,
   "id": "d8906b60",
   "metadata": {},
   "outputs": [],
   "source": [
    "def calc_mars_sol_date(modified_julian_date):\n",
    "    \"\"\"\n",
    "    Calculates Allison & McEwen's (2000) Mars sol-date (Eqn 32)\n",
    "    \n",
    "    Args:\n",
    "        modified_julian_date (float or array of floats): Julian date - 2400000.5 (1873 December 29.5)\n",
    "        \n",
    "    Returns:\n",
    "        Mars sol-date (float or array of floats)\n",
    "    \"\"\"\n",
    "    \n",
    "    k = 0.00096 # From https://marsclock.com/\n",
    "    factor = Time(\"2000-01-06 00:00:00\").mjd\n",
    "    \n",
    "    return modified_julian_date/(mars_sol/u.day) + factor - k\n",
    "\n",
    "def calc_mars_coordinated_time(mars_sol_date):\n",
    "    \"\"\"\n",
    "    Calculate Mars coordinated time (MTC)\n",
    "    \n",
    "    Args:\n",
    "        mars_sol_date (float or array of floats): Mars sol-date as defined by Allison & McEwen (2000)\n",
    "        \n",
    "    Returns:\n",
    "        Mars coordinated time (float)\n",
    "    \"\"\"\n",
    "    \n",
    "    return (24.*mars_sol_date) % 24\n",
    "\n",
    "def calc_mean_anomaly(delta_J2000):\n",
    "    \"\"\"\n",
    "    Returns the mean anomaly using Eq 16 from Allison & McEwen (2000) - \n",
    "    https://ui.adsabs.harvard.edu/abs/2000P%26SS...48..215A/abstract\n",
    "    \n",
    "    Args:\n",
    "        delta_J2000 (float or array of floats): Julian date difference between desired time and\n",
    "        J2000 (2000 Jan 1 12:00:00)\n",
    "        \n",
    "    Returns:\n",
    "        mean anomaly (float or array of floats in degrees)\n",
    "    \"\"\"\n",
    "    \n",
    "    M_0 = 19.3870 # degrees\n",
    "    lin_coeff = 0.52402075 # degrees per day\n",
    "    \n",
    "    return M_0 + lin_coeff*delta_J2000 # From Table 2 in Allison & McEwen (2000)\n",
    "\n",
    "def calc_alpha_FMS(delta_J2000, mod_360=True):\n",
    "    \"\"\"\n",
    "    Returns the ficitious mean Sun angle using Eq 17 from Allison & McEwen (2000) - \n",
    "    https://ui.adsabs.harvard.edu/abs/2000P%26SS...48..215A/abstract\n",
    "    \n",
    "    Args:\n",
    "        delta_J2000 (float or array of floats): Julian date difference between desired time and\n",
    "        J2000 (2000 Jan 1 12:00:00)\n",
    "        mod_360 (bool, optional): take the modulus with 360 degrees\n",
    "        \n",
    "    Returns:\n",
    "        ficitious mean Sun angle (float or array of floats in degrees)\n",
    "    \"\"\"\n",
    "    \n",
    "    alpha_0  = 270.3863 # degrees\n",
    "    lin_coeff = 0.52403840 # degrees per day\n",
    "    quad_coeff = -4e-13 # degrees per day per day\n",
    "    \n",
    "    alpha_FMS = alpha_0 + lin_coeff*delta_J2000 + quad_coeff*delta_J2000*delta_J2000\n",
    "    \n",
    "    if(mod_360):\n",
    "        alpha_FMS = alpha_FMS % 360.\n",
    "    \n",
    "    return alpha_FMS\n",
    "\n",
    "def calc_PBS(delta_J2000):\n",
    "    \"\"\"\n",
    "    The planetary perturbation terms from Allison & McEwen (2000) - you probably don't need to call this!\n",
    "    \n",
    "    Args:\n",
    "        delta_J2000 (float or array of floats): Julian date difference between desired time and\n",
    "        J2000 (2000 Jan 1 12:00:00)\n",
    "    \n",
    "    Returns:\n",
    "        planetary perturbation terms (float or array of floats) from Eq 18\n",
    "    \"\"\"\n",
    "    \n",
    "    # amplitudes in degrees\n",
    "    amplitudes = np.array([0.007, 0.006, 0.004, 0.004, 0.002, 0.002, 0.002])\n",
    "    \n",
    "    # years in centuries\n",
    "    tau = np.array([2.2353, 2.7543, 1.1177, 15.7866, 2.1354, 2.4694, 32.8493])\n",
    "    \n",
    "    # phases in degrees to radians\n",
    "    phi = np.array([49.409, 168.173, 191.837, 21.736, 15.704, 95.528, 49.095])\n",
    "    \n",
    "    # pre-prending factor that appears in Eq 18\n",
    "    factor = 0.985626 # degrees\n",
    "    \n",
    "    PBS = np.zeros_like(delta_J2000)\n",
    "    \n",
    "    for i in range(len(amplitudes)):\n",
    "        PBS += amplitudes[i]*np.cos((factor*delta_J2000/tau[i] + phi[i])*np.pi/180.)\n",
    "    \n",
    "    return PBS\n",
    "\n",
    "def calc_Ls(delta_J2000, mod_360=True):\n",
    "    \"\"\"\n",
    "    Calculate Mars' seasonal angle Ls using Eq 19 from Allison & McEwen (2000) - \n",
    "    https://ui.adsabs.harvard.edu/abs/2000P%26SS...48..215A/abstract\n",
    "    \n",
    "    Args:\n",
    "        delta_J2000 (float or array of floats): Julian date difference between desired time and\n",
    "        J2000 (2000 Jan 1 12:00:00)\n",
    "        mod_360 (bool, optional): take the modulus with 360 degrees\n",
    "    \n",
    "    Returns:\n",
    "        Mars' seasonal angle Ls\n",
    "    \n",
    "    \"\"\"\n",
    "    \n",
    "    sin_M_const_factor = 10.691 # degrees\n",
    "    sin_M_lin_factor = 3e-7 # degrees per day\n",
    "    sin_2M_factor = 0.623 # degrees\n",
    "    sin_3M_factor = 0.050 # degrees\n",
    "    sin_4M_factor = 0.005 # degrees\n",
    "    sin_5M_factor = 0.0005 # degrees\n",
    "    \n",
    "    mean_anomaly = calc_mean_anomaly(delta_J2000)*np.pi/180. # from degrees to radians\n",
    "    sin_M = np.sin(mean_anomaly)\n",
    "    sin_2M = np.sin(2.*mean_anomaly)\n",
    "    sin_3M = np.sin(3.*mean_anomaly)\n",
    "    sin_4M = np.sin(4.*mean_anomaly)\n",
    "    sin_5M = np.sin(5.*mean_anomaly)\n",
    "    \n",
    "    alpha_FMS = calc_alpha_FMS(delta_J2000, mod_360=False)\n",
    "    PBS = calc_PBS(delta_J2000)\n",
    "    \n",
    "    Ls = alpha_FMS + (sin_M_const_factor + sin_M_lin_factor*delta_J2000)*sin_M +\\\n",
    "       sin_2M_factor*sin_2M + sin_3M_factor*sin_3M + sin_4M_factor*sin_4M +\\\n",
    "       sin_5M_factor*sin_5M + PBS\n",
    "    \n",
    "    if(mod_360):\n",
    "        Ls = Ls % 360.\n",
    "        \n",
    "    return Ls"
   ]
  },
  {
   "cell_type": "code",
   "execution_count": 39,
   "id": "9287ad86",
   "metadata": {},
   "outputs": [
    {
     "data": {
      "text/plain": [
       "[<matplotlib.lines.Line2D at 0x119940a90>]"
      ]
     },
     "execution_count": 39,
     "metadata": {},
     "output_type": "execute_result"
    },
    {
     "data": {
      "image/png": "[encoded data removed]",
      "text/plain": [
       "<Figure size 432x288 with 1 Axes>"
      ]
     },
     "metadata": {
      "needs_background": "light"
     },
     "output_type": "display_data"
    }
   ],
   "source": [
    "# Make pandas Timestamp\n",
    "ts = Time('2021-02-18 20:55', scale='utc').mjd\n",
    "msd = calc_mars_sol_date(ts)\n",
    "mtc = calc_mars_coordinated_time(msd)\n",
    "\n",
    "times = np.linspace(0., 100, 1000)\n",
    "plt.plot(times, calc_PBS(times))"
   ]
  },
  {
   "cell_type": "code",
   "execution_count": 182,
   "id": "a9149141",
   "metadata": {},
   "outputs": [
    {
     "name": "stdout",
     "output_type": "stream",
     "text": [
      "0.02173421466432046\n",
      "0.0016495298978043138\n"
     ]
    }
   ],
   "source": [
    "# Check that Ls at J2000 is the right value\n",
    "# assert(np.isclose(calc_Ls(0.), 272.4366730652975))\n",
    "\n",
    "# Ls = 0 dates given in https://www.lpl.arizona.edu/~shane/publications/piqueux_etal_icarus_2015.pdf\n",
    "\n",
    "# Dates given on https://www.planetary.org/articles/mars-calendar\n",
    "first_date_in_delta_J2000 = Time('1955-04-11 12:00:00', scale='utc').jd - float_J2000\n",
    "print(calc_Ls(first_date_in_delta_J2000))\n",
    "\n",
    "second_date = Time('1955-04-11 12:00:00', scale='utc').jd - float_J2000\n",
    "print(calc_Ls(-15649.090))\n",
    "\n",
    "# Perseverance_landing_datetime = Time(\"2021-02-18 20:44:00\", scale='utc').jd# - float_J2000\n",
    "# print(Perseverance_landing_datetime)"
   ]
  },
  {
   "cell_type": "code",
   "execution_count": 10,
   "id": "4e6fb0b3",
   "metadata": {},
   "outputs": [
    {
     "name": "stdout",
     "output_type": "stream",
     "text": [
      "295.65073701311576\n"
     ]
    }
   ],
   "source": [
    "InSight_first_sol = Time(\"2018-11-26 19:44:52\", scale='utc')\n",
    "InSight_first_sol_delta_JD = InSight_first_sol.jd - float_J2000\n",
    "print(calc_Ls(InSight_first_sol_delta_JD))"
   ]
  },
  {
   "cell_type": "code",
   "execution_count": 11,
   "id": "3459377c",
   "metadata": {},
   "outputs": [
    {
     "name": "stdout",
     "output_type": "stream",
     "text": [
      "150.7014666641744\n"
     ]
    }
   ],
   "source": [
    "Curiosity_first_sol = Time(\"2012-08-06 5:17:57\", scale='utc')\n",
    "Curiosity_first_sol_delta_JD = Curiosity_first_sol.jd - float_J2000\n",
    "print(calc_Ls(Curiosity_first_sol_delta_JD))"
   ]
  },
  {
   "cell_type": "code",
   "execution_count": 18,
   "id": "6c9385ea",
   "metadata": {},
   "outputs": [
    {
     "name": "stdout",
     "output_type": "stream",
     "text": [
      "1955-04-11T10:48:00.000\n"
     ]
    },
    {
     "name": "stderr",
     "output_type": "stream",
     "text": [
      "/Users/brian/opt/anaconda3/lib/python3.8/site-packages/erfa/core.py:154: ErfaWarning: ERFA function \"d2dtf\" yielded 1 of \"dubious year (Note 5)\"\n",
      "  warnings.warn('ERFA function \"{}\" yielded {}'.format(func_name, wmsg),\n"
     ]
    }
   ],
   "source": [
    "date = Time(float_J2000 - 16336.050, format='jd')\n",
    "print(date.fits)"
   ]
  }
 ],
 "metadata": {
  "kernelspec": {
   "display_name": "Python 3",
   "language": "python",
   "name": "python3"
  },
  "language_info": {
   "codemirror_mode": {
    "name": "ipython",
    "version": 3
   },
   "file_extension": ".py",
   "mimetype": "text/x-python",
   "name": "python",
   "nbconvert_exporter": "python",
   "pygments_lexer": "ipython3",
   "version": "3.8.8"
  }
 },
 "nbformat": 4,
 "nbformat_minor": 5
}
