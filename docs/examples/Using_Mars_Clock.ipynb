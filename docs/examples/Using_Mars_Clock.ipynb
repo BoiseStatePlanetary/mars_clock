{
 "cells": [
  {
   "cell_type": "markdown",
   "id": "e6146386",
   "metadata": {},
   "source": [
    "# Using Mars Clock"
   ]
  },
  {
   "cell_type": "markdown",
   "id": "3f2e9d5b",
   "metadata": {},
   "source": [
    "This notebook shows how some of the basic functionality of Mars Clock works and how it can be used. We used the information from this website - https://www.giss.nasa.gov/tools/mars24/help/notes.html."
   ]
  },
  {
   "cell_type": "code",
   "execution_count": 42,
   "id": "758d52a2",
   "metadata": {},
   "outputs": [],
   "source": [
    "%matplotlib inline\n",
    "\n",
    "import numpy as np\n",
    "import matplotlib.pyplot as plt\n",
    "import pandas as pd\n",
    "\n",
    "from astropy import units as u"
   ]
  },
  {
   "cell_type": "code",
   "execution_count": 43,
   "id": "f6552c7b",
   "metadata": {},
   "outputs": [],
   "source": [
    "# Define some constants - Use the string format process to limit the precision to the actual measured precisions!\n",
    "mars_solar_day = 24.*u.hour + 39.*u.minute + 35.244*u.second\n",
    "mars_sol = mars_solar_day # This is what's referred to as a sol\n",
    "mars_tropical_year_in_sols = 668.5921*mars_solar_day\n",
    "mars_sidereal_day = 24.*u.hour + 37.*u.min + 22.663*u.second\n",
    "\n",
    "mars_tropical_year = 668.5921*mars_sol\n",
    "mars_sidereal_year = 668.5991*mars_sol"
   ]
  },
  {
   "cell_type": "code",
   "execution_count": 44,
   "id": "d8906b60",
   "metadata": {},
   "outputs": [],
   "source": [
    "# Converting to Julian Date\n",
    "\n",
    "# Make pandas Timestamp\n",
    "ts = pd.Timestamp('2021-09-02 16:04:0')\n",
    "# Convert to Julian Date\n",
    "jd = ts.to_julian_date()\n"
   ]
  },
  {
   "cell_type": "code",
   "execution_count": null,
   "id": "cd45b129",
   "metadata": {},
   "outputs": [],
   "source": []
  }
 ],
 "metadata": {
  "kernelspec": {
   "display_name": "Python 3",
   "language": "python",
   "name": "python3"
  },
  "language_info": {
   "codemirror_mode": {
    "name": "ipython",
    "version": 3
   },
   "file_extension": ".py",
   "mimetype": "text/x-python",
   "name": "python",
   "nbconvert_exporter": "python",
   "pygments_lexer": "ipython3",
   "version": "3.8.8"
  }
 },
 "nbformat": 4,
 "nbformat_minor": 5
}
