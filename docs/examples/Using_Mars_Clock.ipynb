{
 "cells": [
  {
   "cell_type": "markdown",
   "id": "e6146386",
   "metadata": {},
   "source": [
    "# Using Mars Clock"
   ]
  },
  {
   "cell_type": "markdown",
   "id": "3f2e9d5b",
   "metadata": {},
   "source": [
    "This notebook shows how some of the basic functionality of Mars Clock works and how it can be used. We used the information from this website - https://www.giss.nasa.gov/tools/mars24/help/notes.html.\n",
    "\n",
    "We also used notes from this website - https://marsclock.com/."
   ]
  },
  {
   "cell_type": "code",
   "execution_count": 60,
   "id": "758d52a2",
   "metadata": {},
   "outputs": [],
   "source": [
    "%matplotlib inline\n",
    "\n",
    "import numpy as np\n",
    "import matplotlib.pyplot as plt\n",
    "import pandas as pd\n",
    "\n",
    "from astropy import units as u\n",
    "from astropy.time import Time"
   ]
  },
  {
   "cell_type": "code",
   "execution_count": 78,
   "id": "f6552c7b",
   "metadata": {},
   "outputs": [
    {
     "name": "stdout",
     "output_type": "stream",
     "text": [
      "0.0\n"
     ]
    }
   ],
   "source": [
    "# Define some constants - Use the string format process to limit the precision to the actual measured precisions!\n",
    "mars_solar_day = 24.*u.hour + 39.*u.minute + 35.244*u.second\n",
    "mars_sol = mars_solar_day # This is what's referred to as a sol\n",
    "mars_tropical_year_in_sols = 668.5921*mars_solar_day\n",
    "mars_sidereal_day = 24.*u.hour + 37.*u.min + 22.663*u.second\n",
    "\n",
    "mars_tropical_year = 668.5921*mars_sol\n",
    "mars_sidereal_year = 668.5991*mars_sol\n",
    "\n",
    "# J2000 epoch in Julian date\n",
    "JD_2000 = Time('2000-01-01 12:00:00', scale='tt')\n",
    "print(Time(2400000.5, format='jd').mjd)"
   ]
  },
  {
   "cell_type": "code",
   "execution_count": 106,
   "id": "d8906b60",
   "metadata": {},
   "outputs": [
    {
     "name": "stdout",
     "output_type": "stream",
     "text": [
      "5.3775380263105035\n"
     ]
    }
   ],
   "source": [
    "def calc_mars_sol_date(modified_julian_date):\n",
    "    \"\"\"\n",
    "    Calculates Allison & McEwen's (2000) Mars sol-date (Eqn 32)\n",
    "    \n",
    "    Args:\n",
    "        modified_julian_date (float or array of floats): Julian date - 2400000.5 (1873 December 29.5)\n",
    "        \n",
    "    Returns:\n",
    "        Mars sol-date (float or array of floats)\n",
    "    \"\"\"\n",
    "    \n",
    "    k = 0.00096 # From https://marsclock.com/\n",
    "    factor = Time(\"2000-01-06 00:00:00\").mjd\n",
    "    \n",
    "    return modified_julian_date/(mars_sol/u.day) + factor - k\n",
    "\n",
    "def calc_mars_coordinated_time(mars_sol_date):\n",
    "    \"\"\"\n",
    "    Calculate Mars coordinated time (MTC)\n",
    "    \n",
    "    Args:\n",
    "        mars_sol_date (float or array of floats): Mars sol-date as defined by Allison & McEwen (2000)\n",
    "        \n",
    "    Returns:\n",
    "        Mars coordinated time (float)\n",
    "    \"\"\"\n",
    "    \n",
    "    return (24.*mars_sol_date) % 24\n",
    "\n",
    "# Make pandas Timestamp\n",
    "ts = Time('2021-02-18 20:55', scale='utc').mjd\n",
    "msd = calc_mars_sol_date(ts)\n",
    "mtc = calc_mars_coordinated_time(msd)\n",
    "print(mtc)"
   ]
  }
 ],
 "metadata": {
  "kernelspec": {
   "display_name": "Python 3",
   "language": "python",
   "name": "python3"
  },
  "language_info": {
   "codemirror_mode": {
    "name": "ipython",
    "version": 3
   },
   "file_extension": ".py",
   "mimetype": "text/x-python",
   "name": "python",
   "nbconvert_exporter": "python",
   "pygments_lexer": "ipython3",
   "version": "3.8.8"
  }
 },
 "nbformat": 4,
 "nbformat_minor": 5
}
