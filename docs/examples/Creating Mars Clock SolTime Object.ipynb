{
 "cells": [
  {
   "cell_type": "code",
   "execution_count": 2,
   "id": "31c3a4c4",
   "metadata": {},
   "outputs": [
    {
     "ename": "ModuleNotFoundError",
     "evalue": "No module named 'mars_clock'",
     "output_type": "error",
     "traceback": [
      "\u001b[0;31m---------------------------------------------------------------------------\u001b[0m",
      "\u001b[0;31mModuleNotFoundError\u001b[0m                       Traceback (most recent call last)",
      "\u001b[0;32m<ipython-input-2-896af34dda83>\u001b[0m in \u001b[0;36m<module>\u001b[0;34m\u001b[0m\n\u001b[1;32m      1\u001b[0m \u001b[0;32mimport\u001b[0m \u001b[0mnumpy\u001b[0m \u001b[0;32mas\u001b[0m \u001b[0mnp\u001b[0m\u001b[0;34m\u001b[0m\u001b[0;34m\u001b[0m\u001b[0m\n\u001b[1;32m      2\u001b[0m \u001b[0;34m\u001b[0m\u001b[0m\n\u001b[0;32m----> 3\u001b[0;31m \u001b[0;32mfrom\u001b[0m \u001b[0mmars_clock\u001b[0m\u001b[0;34m.\u001b[0m\u001b[0mLs_utils\u001b[0m \u001b[0;32mimport\u001b[0m \u001b[0;34m*\u001b[0m\u001b[0;34m\u001b[0m\u001b[0;34m\u001b[0m\u001b[0m\n\u001b[0m\u001b[1;32m      4\u001b[0m \u001b[0;32mfrom\u001b[0m \u001b[0mmars_clock\u001b[0m\u001b[0;34m.\u001b[0m\u001b[0mmission_sols\u001b[0m \u001b[0;32mimport\u001b[0m \u001b[0;34m*\u001b[0m\u001b[0;34m\u001b[0m\u001b[0;34m\u001b[0m\u001b[0m\n\u001b[1;32m      5\u001b[0m \u001b[0;32mfrom\u001b[0m \u001b[0mastropy\u001b[0m\u001b[0;34m.\u001b[0m\u001b[0mtime\u001b[0m \u001b[0;32mimport\u001b[0m \u001b[0mTime\u001b[0m\u001b[0;34m\u001b[0m\u001b[0;34m\u001b[0m\u001b[0m\n",
      "\u001b[0;31mModuleNotFoundError\u001b[0m: No module named 'mars_clock'"
     ]
    }
   ],
   "source": [
    "import numpy as np\n",
    "\n",
    "from mars_clock.Ls_utils import *\n",
    "from mars_clock.mission_sols import *\n",
    "from astropy.time import Time\n",
    "\n",
    "import pandas as pd"
   ]
  },
  {
   "cell_type": "code",
   "execution_count": null,
   "id": "c40eda83",
   "metadata": {},
   "outputs": [],
   "source": [
    "class SolTime(object):\n",
    "    \"\"\"\n",
    "    This object provides some basic arithmetic for implementing Mars time\n",
    "    \n",
    "    \"\"\"\n",
    "    \n",
    "    # Define some constants\n",
    "    \n",
    "    # See https://www.giss.nasa.gov/tools/mars24/help/notes.html for details.\n",
    "\n",
    "    LMST_Mars_hours_per_sol = 24.\n",
    "    LMST_Mars_minutes_per_hour = 60.\n",
    "    LMST_Mars_seconds_per_minute = 60.\n",
    "    \n",
    "    # By definition, there are 24*60*60 Mars seconds per sol using local mean solar time.\n",
    "    LMST_Mars_seconds_per_sol = 24.*60.*60.\n",
    "    \n",
    "    def __init__(self, time, time_format=None, mission_sol=0):\n",
    "        \"\"\"\n",
    "        Args:\n",
    "            time (float or str): time\n",
    "            time_format (str, optional): If None, then time must be the number of seconds since midnight for the\n",
    "            given mission sol. If \"LMST\", time must be a string formatted as \"HH:MM:SS\" in 24-hour format.\n",
    "            mission_sol (int, optional): mission sol\n",
    "        \"\"\"\n",
    "        \n",
    "        self.mission_sol = mission_sol\n",
    "        \n",
    "        if(time_format is None):\n",
    "            self.time = time\n",
    "            \n",
    "        if(time_format == \"LMST\"):\n",
    "            hour, minutes, seconds = time.strsplit(\":\")\n",
    "            self.time = \n",
    "            "
   ]
  }
 ],
 "metadata": {
  "kernelspec": {
   "display_name": "Python 3",
   "language": "python",
   "name": "python3"
  },
  "language_info": {
   "codemirror_mode": {
    "name": "ipython",
    "version": 3
   },
   "file_extension": ".py",
   "mimetype": "text/x-python",
   "name": "python",
   "nbconvert_exporter": "python",
   "pygments_lexer": "ipython3",
   "version": "3.9.6"
  }
 },
 "nbformat": 4,
 "nbformat_minor": 5
}
