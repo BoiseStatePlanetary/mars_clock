{
 "cells": [
  {
   "cell_type": "code",
   "execution_count": 9,
   "id": "31c3a4c4",
   "metadata": {},
   "outputs": [],
   "source": [
    "%matplotlib inline\n",
    "\n",
    "import numpy as np\n",
    "\n",
    "from mars_clock.Ls_utils import *\n",
    "from mars_clock.mission_sols import *\n",
    "from astropy.time import Time\n",
    "\n",
    "import pandas as pd\n",
    "import matplotlib.pyplot as plt"
   ]
  },
  {
   "cell_type": "code",
   "execution_count": 53,
   "id": "c40eda83",
   "metadata": {},
   "outputs": [],
   "source": [
    "import astropy.units as u\n",
    "import pandas as pd\n",
    "\n",
    "# Define some constants\n",
    "Mars_hours_per_sol = 24.\n",
    "Mars_minutes_per_hour = 60.\n",
    "Mars_seconds_per_minute = 60.\n",
    "# By definition, there are 24*60*60 Mars seconds per sol using local mean solar time.\n",
    "Mars_seconds_per_sol = 24.*60.*60.\n",
    "\n",
    "class Clock(object):\n",
    "    \"\"\"\n",
    "    This object provides some basics for keeping track of time on Mars.\n",
    "    \n",
    "    Clock assumes there are 60 seconds per minute, 60 minutes for hour, 24 hours per sol.\n",
    "    This approach is useful when dealing with local true solar time and local mean solar time.\n",
    "    See https://www.giss.nasa.gov/tools/mars24/help/notes.html for details.\n",
    "    \"\"\"\n",
    "    \n",
    "    def __init__(self, time, time_format=None, \n",
    "                 mars_year=None, Ls=None, mission_name=None, mission_sol=None, longitude=None, latitude=None):\n",
    "        \"\"\"\n",
    "        Args:\n",
    "            time (float or str or array of floats or strs): time\n",
    "            time_format (str, optional): If None, then time must be the number of seconds since midnight for the\n",
    "            given mission sol. \n",
    "            mars_year (int or array of ints): should have same number of elements as time; \n",
    "            not used yet but included for future functionality\n",
    "            Ls (float or array of floats): should have same number of elements as time; \n",
    "            not used yet but included for future functionality\n",
    "            mission_name (str, optional): name of mission for which times are collected; not used yet but \n",
    "            included for future functionality\n",
    "            mission_sol (int, optional): mission sol; also included for future functionality\n",
    "            longitude/latitude (optional): included for future functionality\n",
    "        \"\"\"\n",
    "        \n",
    "        self.mars_year = mars_year\n",
    "        self.mission_name = mission_name\n",
    "        self.mission_sol = mission_sol\n",
    "        self.longitude = longitude\n",
    "        self.latitude = latitude\n",
    "        \n",
    "        # If time_format is not given, the code assumes it represents the number of seconds since midnight\n",
    "        if(time_format is None):\n",
    "            self.time = time*u.second\n",
    "            \n",
    "        elif(isinstance(time_format, str)):\n",
    "            # I want to use panda.datetime time format interpretation but NOT the year-month-day information\n",
    "            cur_time = pd.to_datetime(time, format=time_format)\n",
    "            \n",
    "            print(cur_time.hour.dtype)#, cur_time.minute, cur_time.second)\n",
    "            \n",
    "            self.time = cur_time.time"
   ]
  },
  {
   "cell_type": "code",
   "execution_count": 54,
   "id": "9252339c",
   "metadata": {},
   "outputs": [
    {
     "name": "stdout",
     "output_type": "stream",
     "text": [
      "1.0 s\n",
      "int64\n",
      "[datetime.time(12, 0, 0, 500000) datetime.time(12, 0, 1, 500000)\n",
      " datetime.time(12, 0, 2, 500000)]\n"
     ]
    },
    {
     "data": {
      "image/png": "[encoded data removed]",
      "text/plain": [
       "<Figure size 432x288 with 1 Axes>"
      ]
     },
     "metadata": {
      "needs_background": "light"
     },
     "output_type": "display_data"
    }
   ],
   "source": [
    "time = 1.\n",
    "c = Clock(time)\n",
    "plt.plot(c.time)\n",
    "print(c.time)\n",
    "\n",
    "other_time = [\"12:00:00.5\", \"12:00:01.5\", \"12:00:02.5\"]\n",
    "other_c = Clock(other_time, time_format=\"%H:%M:%S.%f\")\n",
    "print(other_c.time)"
   ]
  },
  {
   "cell_type": "code",
   "execution_count": null,
   "id": "2516f72f",
   "metadata": {},
   "outputs": [],
   "source": [
    "    # Define some constants\n",
    "    \n",
    "    # See https://www.giss.nasa.gov/tools/mars24/help/notes.html for details.\n",
    "\n",
    "    LMST_Mars_hours_per_sol = 24.\n",
    "    LMST_Mars_minutes_per_hour = 60.\n",
    "    LMST_Mars_seconds_per_minute = 60.\n",
    "    \n",
    "    # By definition, there are 24*60*60 Mars seconds per sol using local mean solar time.\n",
    "    LMST_Mars_seconds_per_sol = 24.*60.*60."
   ]
  }
 ],
 "metadata": {
  "kernelspec": {
   "display_name": "Python 3 (ipykernel)",
   "language": "python",
   "name": "python3"
  },
  "language_info": {
   "codemirror_mode": {
    "name": "ipython",
    "version": 3
   },
   "file_extension": ".py",
   "mimetype": "text/x-python",
   "name": "python",
   "nbconvert_exporter": "python",
   "pygments_lexer": "ipython3",
   "version": "3.8.12"
  }
 },
 "nbformat": 4,
 "nbformat_minor": 5
}
